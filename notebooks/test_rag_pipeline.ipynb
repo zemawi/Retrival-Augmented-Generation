{
 "cells": [
  {
   "cell_type": "code",
   "execution_count": 2,
   "id": "d201f202",
   "metadata": {},
   "outputs": [],
   "source": [
    "import sys\n",
    "import os\n",
    "\n",
    "sys.path.append(os.path.abspath('..'))"
   ]
  },
  {
   "cell_type": "code",
   "execution_count": 4,
   "id": "1cb7f2b8",
   "metadata": {},
   "outputs": [
    {
     "name": "stdout",
     "output_type": "stream",
     "text": [
      "Current working directory: c:\\Users\\Lenovo\\RAG\\Retrival-Augmented-Generation\\notebooks\n",
      "File exists? False\n"
     ]
    }
   ],
   "source": [
    "import os\n",
    "print(\"Current working directory:\", os.getcwd())\n",
    "print(\"File exists?\", os.path.exists(\"vector_store/faiss_index.index\"))\n"
   ]
  },
  {
   "cell_type": "code",
   "execution_count": 3,
   "id": "19916b3e",
   "metadata": {},
   "outputs": [
    {
     "name": "stderr",
     "output_type": "stream",
     "text": [
      "c:\\Users\\Lenovo\\RAG\\Retrival-Augmented-Generation\\venv\\Lib\\site-packages\\tqdm\\auto.py:21: TqdmWarning: IProgress not found. Please update jupyter and ipywidgets. See https://ipywidgets.readthedocs.io/en/stable/user_install.html\n",
      "  from .autonotebook import tqdm as notebook_tqdm\n"
     ]
    },
    {
     "ename": "RuntimeError",
     "evalue": "Error in __cdecl faiss::FileIOReader::FileIOReader(const char *) at D:\\a\\faiss-wheels\\faiss-wheels\\faiss\\faiss\\impl\\io.cpp:68: Error: 'f' failed: could not open vector_store/faiss_index.index for reading: No such file or directory",
     "output_type": "error",
     "traceback": [
      "\u001b[31m---------------------------------------------------------------------------\u001b[39m",
      "\u001b[31mRuntimeError\u001b[39m                              Traceback (most recent call last)",
      "\u001b[32m~\\AppData\\Local\\Temp\\ipykernel_23028\\2015515248.py\u001b[39m in \u001b[36m?\u001b[39m\u001b[34m()\u001b[39m\n\u001b[32m----> \u001b[39m\u001b[32m1\u001b[39m \u001b[38;5;28;01mfrom\u001b[39;00m src.rag_pipeline \u001b[38;5;28;01mimport\u001b[39;00m answer_question\n\u001b[32m      2\u001b[39m \n\u001b[32m      3\u001b[39m q = \u001b[33m\"What are the top complaints about savings accounts?\"\u001b[39m\n\u001b[32m      4\u001b[39m result = answer_question(q)\n",
      "\u001b[32mc:\\Users\\Lenovo\\RAG\\Retrival-Augmented-Generation\\src\\rag_pipeline.py\u001b[39m in \u001b[36m?\u001b[39m\u001b[34m()\u001b[39m\n\u001b[32m      4\u001b[39m \u001b[38;5;28;01mfrom\u001b[39;00m sentence_transformers \u001b[38;5;28;01mimport\u001b[39;00m SentenceTransformer\n\u001b[32m      5\u001b[39m \u001b[38;5;28;01mfrom\u001b[39;00m transformers \u001b[38;5;28;01mimport\u001b[39;00m pipeline\n\u001b[32m      6\u001b[39m \n\u001b[32m      7\u001b[39m \u001b[38;5;66;03m# Load FAISS index and metadata\u001b[39;00m\n\u001b[32m----> \u001b[39m\u001b[32m8\u001b[39m index = faiss.read_index(\u001b[33m\"vector_store/faiss_index.index\"\u001b[39m)\n\u001b[32m      9\u001b[39m \u001b[38;5;28;01mwith\u001b[39;00m open(\u001b[33m\"vector_store/metadata.pkl\"\u001b[39m, \u001b[33m\"rb\"\u001b[39m) \u001b[38;5;28;01mas\u001b[39;00m f:\n\u001b[32m     10\u001b[39m     metadata = pickle.load(f)\n\u001b[32m     11\u001b[39m \n",
      "\u001b[32mc:\\Users\\Lenovo\\RAG\\Retrival-Augmented-Generation\\venv\\Lib\\site-packages\\faiss\\swigfaiss_avx2.py\u001b[39m in \u001b[36m?\u001b[39m\u001b[34m(*args)\u001b[39m\n\u001b[32m  11140\u001b[39m \u001b[38;5;28;01mdef\u001b[39;00m read_index(*args):\n\u001b[32m> \u001b[39m\u001b[32m11141\u001b[39m     \u001b[38;5;28;01mreturn\u001b[39;00m _swigfaiss_avx2.read_index(*args)\n",
      "\u001b[31mRuntimeError\u001b[39m: Error in __cdecl faiss::FileIOReader::FileIOReader(const char *) at D:\\a\\faiss-wheels\\faiss-wheels\\faiss\\faiss\\impl\\io.cpp:68: Error: 'f' failed: could not open vector_store/faiss_index.index for reading: No such file or directory"
     ]
    }
   ],
   "source": [
    "from src.rag_pipeline import answer_question\n",
    "\n",
    "q = \"What are the top complaints about savings accounts?\"\n",
    "result = answer_question(q)\n",
    "\n",
    "print(\"Answer:\", result[\"answer\"])\n",
    "print(\"Context:\", result[\"context\"])\n"
   ]
  },
  {
   "cell_type": "code",
   "execution_count": null,
   "id": "f15d1344",
   "metadata": {},
   "outputs": [],
   "source": []
  }
 ],
 "metadata": {
  "kernelspec": {
   "display_name": "venv",
   "language": "python",
   "name": "python3"
  },
  "language_info": {
   "codemirror_mode": {
    "name": "ipython",
    "version": 3
   },
   "file_extension": ".py",
   "mimetype": "text/x-python",
   "name": "python",
   "nbconvert_exporter": "python",
   "pygments_lexer": "ipython3",
   "version": "3.13.3"
  }
 },
 "nbformat": 4,
 "nbformat_minor": 5
}
